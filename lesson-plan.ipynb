{
 "cells": [
  {
   "cell_type": "markdown",
   "metadata": {},
   "source": [
    "### Questions\n",
    "* Is NetworkX used in deep learning? No\n",
    "* The strategy to find the shortest path from one node to another\n",
    "    * Least number of edges from one node to another"
   ]
  },
  {
   "cell_type": "markdown",
   "metadata": {},
   "source": [
    "### Objectives\n",
    "YWBAT \n",
    "* define a complete graph\n",
    "* give examples of when to use graph theory\n",
    "* how is graph theory used today"
   ]
  },
  {
   "cell_type": "markdown",
   "metadata": {},
   "source": [
    "### Why is calculating/estimating edge numbers so important for computational studies?\n",
    "How many flops your code is going to do\n",
    "\n",
    "**flops** -> number of floating point operations per second -> algorithm efficiency\n",
    "\n",
    "**Big O** Notation\n",
    "* O(1) - constant time\n",
    "* O(n) - linear time\n",
    "* O(nlogn) - n-logn time\n",
    "* O(n^2) - n^2 time\n",
    "* O(n^3) - n^3 time"
   ]
  },
  {
   "cell_type": "code",
   "execution_count": 14,
   "metadata": {},
   "outputs": [],
   "source": [
    "# Example of O(n)\n",
    "def first(arr):\n",
    "    return arr[0] + arr[1]\n",
    "\n",
    "\n",
    "# Big(O) = n\n",
    "def cap(arr):\n",
    "    cap_arr = []\n",
    "    for word in arr:\n",
    "        cap_arr.append(word.capitalize())\n",
    "    return cap_arr\n",
    "\n",
    "\n",
    "# Big(0) = O(cap_back) = n\n",
    "# flops = 2n\n",
    "def cap_back(arr):\n",
    "    cap_back_arr = []\n",
    "    \n",
    "    for word in arr:\n",
    "        cap_back_arr.append(word[::-1])\n",
    "    \n",
    "    for index, word in enumerate(cap_back_arr):\n",
    "        cap_back_arr[index] = word.capitalize()\n",
    "    \n",
    "    return cap_back_arr\n",
    "\n",
    "\n",
    "# O(n^2)\n",
    "def f(arr):\n",
    "    f = []\n",
    "    for word1 in arr:\n",
    "        for word2 in arr:\n",
    "            if word1 == word2:\n",
    "                continue\n",
    "            if word1[0] == word2[0]:\n",
    "                f.append((word1, word2))\n",
    "    return f\n",
    "\n",
    "\n",
    "# how could we write an 0(n^3)\n",
    "# 3 nested for loops"
   ]
  },
  {
   "cell_type": "code",
   "execution_count": 22,
   "metadata": {},
   "outputs": [
    {
     "data": {
      "text/plain": [
       "1561135885.74135"
      ]
     },
     "execution_count": 22,
     "metadata": {},
     "output_type": "execute_result"
    }
   ],
   "source": [
    "import time\n",
    "time.time()"
   ]
  },
  {
   "cell_type": "code",
   "execution_count": 18,
   "metadata": {},
   "outputs": [],
   "source": [
    "def f3(arr):\n",
    "    p = 1\n",
    "    for i in arr:\n",
    "        for i in arr:\n",
    "            for i in arr:\n",
    "                p = 2\n",
    "    return None\n",
    "\n",
    "def f2(arr):\n",
    "    p = 1\n",
    "    for i in arr:\n",
    "        for i in arr:\n",
    "            p = 2\n",
    "    return None\n",
    "\n",
    "\n",
    "def f1(arr):\n",
    "    p = 1\n",
    "    for i in arr:\n",
    "        p = 2\n",
    "    return None"
   ]
  },
  {
   "cell_type": "code",
   "execution_count": 23,
   "metadata": {},
   "outputs": [],
   "source": [
    "t1, t2, t3 = [], [], []\n",
    "\n",
    "for i in range(1, 50):\n",
    "    arr = list(range(i))\n",
    "    \n",
    "    start = time.time()\n",
    "    f1(arr)\n",
    "    t1_ = time.time() - start\n",
    "    \n",
    "    t1.append(t1_)\n",
    "    \n",
    "    start = time.time()\n",
    "    f2(arr)\n",
    "    t2_ = time.time() - start\n",
    "    t2.append(t2_)\n",
    "    \n",
    "    start = time.time()\n",
    "    f3(arr)\n",
    "    t3_ = time.time() - start\n",
    "    \n",
    "    t3.append(t3_)"
   ]
  },
  {
   "cell_type": "code",
   "execution_count": 29,
   "metadata": {},
   "outputs": [
    {
     "data": {
      "text/plain": [
       "[<matplotlib.lines.Line2D at 0x11a16f978>]"
      ]
     },
     "execution_count": 29,
     "metadata": {},
     "output_type": "execute_result"
    },
    {
     "data": {
      "image/png": "[encoded data removed]",
      "text/plain": [
       "<Figure size 432x288 with 1 Axes>"
      ]
     },
     "metadata": {
      "needs_background": "light"
     },
     "output_type": "display_data"
    }
   ],
   "source": [
    "plt.plot(range(len(t3)), t3)"
   ]
  },
  {
   "cell_type": "markdown",
   "metadata": {},
   "source": [
    "### How are graphs used?\n",
    "* Networks\n",
    "    * Finding people really close together\n",
    "        *  connect users on purchase history \n",
    "        *  connect user demographical \n",
    "* Recommender Systems\n",
    "    * 1 graph (grid) of users\n",
    "    * 1 graph (grid) of items/movies/songs\n",
    "    * find similar users and find what 1 user likes and recommend to the other\n",
    "\n",
    "* Neural Networks\n",
    "    * Layers - nodes\n",
    "    * Layers are connected by edges\n",
    "    * Talk more later\n",
    "    \n",
    "* PGMs - Probabilistic Graphical Models\n",
    "    * super super fast compared to ML models\n",
    "    * Markov Chains\n",
    "        * connect items based on frequency\n",
    "    * PGMs are really defined by the edges they use\n",
    "        * Using Poisson Distributions\n",
    "        * Normal Distribution\n",
    "        * Beta Distribution"
   ]
  },
  {
   "cell_type": "markdown",
   "metadata": {},
   "source": [
    "### Outline"
   ]
  },
  {
   "cell_type": "code",
   "execution_count": 25,
   "metadata": {},
   "outputs": [],
   "source": [
    "import pandas as pd\n",
    "import numpy as np\n",
    "\n",
    "import matplotlib.pyplot as plt"
   ]
  },
  {
   "cell_type": "markdown",
   "metadata": {},
   "source": [
    "### Assessment"
   ]
  }
 ],
 "metadata": {
  "kernelspec": {
   "display_name": "Python 3",
   "language": "python",
   "name": "python3"
  },
  "language_info": {
   "codemirror_mode": {
    "name": "ipython",
    "version": 3
   },
   "file_extension": ".py",
   "mimetype": "text/x-python",
   "name": "python",
   "nbconvert_exporter": "python",
   "pygments_lexer": "ipython3",
   "version": "3.7.3"
  }
 },
 "nbformat": 4,
 "nbformat_minor": 2
}
